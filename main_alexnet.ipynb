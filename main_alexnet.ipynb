{
  "cells": [
    {
      "cell_type": "code",
      "execution_count": null,
      "metadata": {
        "id": "lmM2WSdcjcDS"
      },
      "outputs": [],
      "source": [
        "from keras.models import Sequential\n",
        "from keras.layers import Conv2D, MaxPooling2D, Dense, Flatten, Dropout\n",
        "from keras.losses import categorical_crossentropy\n",
        "\n",
        "def AlexNet(input_shape, class_num):\n",
        "\n",
        "    model = Sequential()\n",
        "\n",
        "    model.add(Conv2D(96, kernel_size=(11,11), strides= 4,\n",
        "                        padding= 'valid', activation= 'relu',\n",
        "                        input_shape= input_shape,\n",
        "                        kernel_initializer= 'he_normal'))\n",
        "    model.add(MaxPooling2D(pool_size=(3,3), strides= (2,2),\n",
        "                            padding= 'valid', data_format= None))\n",
        "\n",
        "    model.add(Conv2D(256, kernel_size=(5,5), strides= 1,\n",
        "                    padding= 'same', activation= 'relu',\n",
        "                    kernel_initializer= 'he_normal'))\n",
        "    model.add(MaxPooling2D(pool_size=(3,3), strides= (2,2),\n",
        "                            padding= 'valid', data_format= None))\n",
        "\n",
        "    model.add(Conv2D(384, kernel_size=(3,3), strides= 1,\n",
        "                    padding= 'same', activation= 'relu',\n",
        "                    kernel_initializer= 'he_normal'))\n",
        "\n",
        "    model.add(Conv2D(384, kernel_size=(3,3), strides= 1,\n",
        "                    padding= 'same', activation= 'relu',\n",
        "                    kernel_initializer= 'he_normal'))\n",
        "\n",
        "    model.add(Conv2D(256, kernel_size=(3,3), strides= 1,\n",
        "                    padding= 'same', activation= 'relu',\n",
        "                    kernel_initializer= 'he_normal'))\n",
        "\n",
        "    model.add(MaxPooling2D(pool_size=(3,3), strides= (2,2),\n",
        "                            padding= 'valid', data_format= None))\n",
        "\n",
        "    model.add(Flatten())\n",
        "    model.add(Dense(4096, activation= 'relu'))\n",
        "    model.add(Dense(4096, activation= 'relu'))\n",
        "    model.add(Dense(1000, activation= 'relu'))\n",
        "    model.add(Dense(class_num, activation= 'softmax'))\n",
        "\n",
        "    return model\n"
      ]
    },
    {
      "cell_type": "code",
      "source": [
        "from google.colab import drive\n",
        "drive.mount('/content/drive')"
      ],
      "metadata": {
        "colab": {
          "base_uri": "https://localhost:8080/"
        },
        "id": "EC_L1k6Ysfv8",
        "outputId": "8bd085fc-97c0-435a-8b5f-4603346757d3"
      },
      "execution_count": null,
      "outputs": [
        {
          "output_type": "stream",
          "name": "stdout",
          "text": [
            "Drive already mounted at /content/drive; to attempt to forcibly remount, call drive.mount(\"/content/drive\", force_remount=True).\n"
          ]
        }
      ]
    },
    {
      "cell_type": "code",
      "execution_count": null,
      "metadata": {
        "id": "uR5Rxj25jcDU"
      },
      "outputs": [],
      "source": [
        "import os\n",
        "import cv2\n",
        "import random\n",
        "\n",
        "training = []\n",
        "Categories = ['Goals', 'Cards', 'Substitution']\n",
        "path_test = '/content/drive/MyDrive/Football Major Event Detection/Datasets'\n",
        "img_size = 227\n",
        "\n",
        "def createTrainingData(Categories, img_size, path_test):\n",
        "    for category in Categories:\n",
        "        path = os.path.join(path_test, category)\n",
        "        class_num = Categories.index(category)\n",
        "        for img in os.listdir(path):\n",
        "            img_array = cv2.imread(os.path.join(path, img))\n",
        "            new_array = cv2.resize(img_array, (img_size, img_size))\n",
        "            training.append([new_array, class_num])\n",
        "\n",
        "createTrainingData(Categories, img_size, path_test)\n",
        "random.shuffle(training)"
      ]
    },
    {
      "cell_type": "code",
      "execution_count": null,
      "metadata": {
        "id": "3SdNBVIsjcDU",
        "colab": {
          "base_uri": "https://localhost:8080/"
        },
        "outputId": "3d4746e7-b59d-40ec-a287-e8d0119cf5f9"
      },
      "outputs": [
        {
          "output_type": "execute_result",
          "data": {
            "text/plain": [
              "1544"
            ]
          },
          "metadata": {},
          "execution_count": 6
        }
      ],
      "source": [
        "len(training)"
      ]
    },
    {
      "cell_type": "code",
      "execution_count": null,
      "metadata": {
        "id": "Hwd9IFlhjcDV"
      },
      "outputs": [],
      "source": [
        "import numpy as np\n",
        "\n",
        "classes_num = 3\n",
        "X=[]\n",
        "y=[]\n",
        "\n",
        "for features, label in training:\n",
        "    X.append(features)\n",
        "    y.append(label)\n",
        "\n",
        "X = np.array(X).reshape(-1, img_size, img_size, 3)\n",
        "\n",
        "X = X.astype('float32')\n",
        "X /= 255\n",
        "\n",
        "from keras.utils import to_categorical\n",
        "\n",
        "y = to_categorical(y, classes_num)"
      ]
    },
    {
      "cell_type": "code",
      "execution_count": null,
      "metadata": {
        "id": "WQyMVzL9jcDV",
        "outputId": "7dacd3da-d2aa-4880-e2c1-6a9f18c5ab7a",
        "colab": {
          "base_uri": "https://localhost:8080/"
        }
      },
      "outputs": [
        {
          "output_type": "execute_result",
          "data": {
            "text/plain": [
              "(1544, 3)"
            ]
          },
          "metadata": {},
          "execution_count": 8
        }
      ],
      "source": [
        "y.shape"
      ]
    },
    {
      "cell_type": "code",
      "execution_count": null,
      "metadata": {
        "id": "lzzXdvBOjcDV",
        "outputId": "0070fead-4e5f-48d7-e37b-10cf8a40479a",
        "colab": {
          "base_uri": "https://localhost:8080/"
        }
      },
      "outputs": [
        {
          "output_type": "execute_result",
          "data": {
            "text/plain": [
              "(1544, 227, 227, 3)"
            ]
          },
          "metadata": {},
          "execution_count": 9
        }
      ],
      "source": [
        "X.shape"
      ]
    },
    {
      "cell_type": "code",
      "execution_count": null,
      "metadata": {
        "id": "nRwzAohajcDV"
      },
      "outputs": [],
      "source": [
        "from sklearn.model_selection import train_test_split\n",
        "\n",
        "X_train, X_test, y_train, y_test = train_test_split(X, y, test_size = 0.2, random_state = 4)"
      ]
    },
    {
      "cell_type": "code",
      "execution_count": null,
      "metadata": {
        "id": "yuauxknrjcDV",
        "outputId": "3d2f5a47-f6bd-43d5-97c4-9150516d626e",
        "colab": {
          "base_uri": "https://localhost:8080/"
        }
      },
      "outputs": [
        {
          "output_type": "execute_result",
          "data": {
            "text/plain": [
              "(1235, 227, 227, 3)"
            ]
          },
          "metadata": {},
          "execution_count": 11
        }
      ],
      "source": [
        "X_train.shape"
      ]
    },
    {
      "cell_type": "code",
      "execution_count": null,
      "metadata": {
        "id": "a1NHcu79jcDW",
        "outputId": "a5702fd6-1d88-4ea8-944f-ec8b3c67f4c0",
        "colab": {
          "base_uri": "https://localhost:8080/"
        }
      },
      "outputs": [
        {
          "output_type": "execute_result",
          "data": {
            "text/plain": [
              "(309, 227, 227, 3)"
            ]
          },
          "metadata": {},
          "execution_count": 12
        }
      ],
      "source": [
        "X_test.shape"
      ]
    },
    {
      "cell_type": "code",
      "execution_count": null,
      "metadata": {
        "id": "4PA4zVTFjcDW",
        "outputId": "90cb102c-0d6b-4fe4-e86f-3ea807bc34a2",
        "colab": {
          "base_uri": "https://localhost:8080/"
        }
      },
      "outputs": [
        {
          "output_type": "execute_result",
          "data": {
            "text/plain": [
              "(1235, 3)"
            ]
          },
          "metadata": {},
          "execution_count": 13
        }
      ],
      "source": [
        "y_train.shape"
      ]
    },
    {
      "cell_type": "code",
      "execution_count": null,
      "metadata": {
        "id": "cxsn9QTejcDW",
        "outputId": "51153250-91e3-4441-a78f-cb72a32fe7c4",
        "colab": {
          "base_uri": "https://localhost:8080/"
        }
      },
      "outputs": [
        {
          "output_type": "execute_result",
          "data": {
            "text/plain": [
              "(309, 3)"
            ]
          },
          "metadata": {},
          "execution_count": 14
        }
      ],
      "source": [
        "y_test.shape"
      ]
    },
    {
      "cell_type": "code",
      "source": [
        "x_val = X_train[:310]\n",
        "x_train = X_train[310:]\n",
        "\n",
        "y_val = y_train[:310]\n",
        "y_train = y_train[310:]"
      ],
      "metadata": {
        "id": "bmJheiu0_5-L"
      },
      "execution_count": null,
      "outputs": []
    },
    {
      "cell_type": "code",
      "execution_count": null,
      "metadata": {
        "id": "zK_Fijc6jcDW"
      },
      "outputs": [],
      "source": [
        "model = AlexNet((227,227,3), 3)"
      ]
    },
    {
      "cell_type": "code",
      "execution_count": null,
      "metadata": {
        "id": "d5sch0-QjcDW",
        "colab": {
          "base_uri": "https://localhost:8080/"
        },
        "outputId": "744cc7f6-acd8-4914-fbdb-899237f4ff38"
      },
      "outputs": [
        {
          "output_type": "stream",
          "name": "stdout",
          "text": [
            "Model: \"sequential\"\n",
            "_________________________________________________________________\n",
            " Layer (type)                Output Shape              Param #   \n",
            "=================================================================\n",
            " conv2d (Conv2D)             (None, 55, 55, 96)        34944     \n",
            "                                                                 \n",
            " max_pooling2d (MaxPooling2  (None, 27, 27, 96)        0         \n",
            " D)                                                              \n",
            "                                                                 \n",
            " conv2d_1 (Conv2D)           (None, 27, 27, 256)       614656    \n",
            "                                                                 \n",
            " max_pooling2d_1 (MaxPoolin  (None, 13, 13, 256)       0         \n",
            " g2D)                                                            \n",
            "                                                                 \n",
            " conv2d_2 (Conv2D)           (None, 13, 13, 384)       885120    \n",
            "                                                                 \n",
            " conv2d_3 (Conv2D)           (None, 13, 13, 384)       1327488   \n",
            "                                                                 \n",
            " conv2d_4 (Conv2D)           (None, 13, 13, 256)       884992    \n",
            "                                                                 \n",
            " max_pooling2d_2 (MaxPoolin  (None, 6, 6, 256)         0         \n",
            " g2D)                                                            \n",
            "                                                                 \n",
            " flatten (Flatten)           (None, 9216)              0         \n",
            "                                                                 \n",
            " dense (Dense)               (None, 4096)              37752832  \n",
            "                                                                 \n",
            " dense_1 (Dense)             (None, 4096)              16781312  \n",
            "                                                                 \n",
            " dense_2 (Dense)             (None, 1000)              4097000   \n",
            "                                                                 \n",
            " dense_3 (Dense)             (None, 3)                 3003      \n",
            "                                                                 \n",
            "=================================================================\n",
            "Total params: 62381347 (237.97 MB)\n",
            "Trainable params: 62381347 (237.97 MB)\n",
            "Non-trainable params: 0 (0.00 Byte)\n",
            "_________________________________________________________________\n"
          ]
        }
      ],
      "source": [
        "from keras import optimizers, losses, metrics\n",
        "\n",
        "model.compile(optimizer=optimizers.Adam(learning_rate=0.0001), loss=losses.categorical_crossentropy,\n",
        "              metrics=[metrics.categorical_crossentropy, metrics.categorical_accuracy])\n",
        "model.summary()"
      ]
    },
    {
      "cell_type": "code",
      "source": [
        "trained_model = model.fit(x_train,y_train, epochs=100, batch_size=100,validation_data=(x_val, y_val))"
      ],
      "metadata": {
        "colab": {
          "base_uri": "https://localhost:8080/"
        },
        "id": "6Ai4l6pfrjSr",
        "outputId": "5e84473a-6b1d-4763-df47-91a18c9fb8d5"
      },
      "execution_count": null,
      "outputs": [
        {
          "output_type": "stream",
          "name": "stdout",
          "text": [
            "Epoch 1/100\n",
            "10/10 [==============================] - 21s 518ms/step - loss: 2.0297 - categorical_crossentropy: 2.0297 - categorical_accuracy: 0.3481 - val_loss: 0.9655 - val_categorical_crossentropy: 0.9655 - val_categorical_accuracy: 0.6355\n",
            "Epoch 2/100\n",
            "10/10 [==============================] - 1s 134ms/step - loss: 0.9621 - categorical_crossentropy: 0.9621 - categorical_accuracy: 0.5222 - val_loss: 0.8129 - val_categorical_crossentropy: 0.8129 - val_categorical_accuracy: 0.7065\n",
            "Epoch 3/100\n",
            "10/10 [==============================] - 1s 134ms/step - loss: 0.7938 - categorical_crossentropy: 0.7938 - categorical_accuracy: 0.6800 - val_loss: 0.8592 - val_categorical_crossentropy: 0.8592 - val_categorical_accuracy: 0.6323\n",
            "Epoch 4/100\n",
            "10/10 [==============================] - 1s 144ms/step - loss: 0.6778 - categorical_crossentropy: 0.6778 - categorical_accuracy: 0.7341 - val_loss: 0.6655 - val_categorical_crossentropy: 0.6655 - val_categorical_accuracy: 0.7323\n",
            "Epoch 5/100\n",
            "10/10 [==============================] - 1s 144ms/step - loss: 0.5754 - categorical_crossentropy: 0.5754 - categorical_accuracy: 0.7914 - val_loss: 0.5418 - val_categorical_crossentropy: 0.5418 - val_categorical_accuracy: 0.7968\n",
            "Epoch 6/100\n",
            "10/10 [==============================] - 1s 135ms/step - loss: 0.4107 - categorical_crossentropy: 0.4107 - categorical_accuracy: 0.8508 - val_loss: 0.4648 - val_categorical_crossentropy: 0.4648 - val_categorical_accuracy: 0.8065\n",
            "Epoch 7/100\n",
            "10/10 [==============================] - 1s 146ms/step - loss: 0.3306 - categorical_crossentropy: 0.3306 - categorical_accuracy: 0.8703 - val_loss: 0.5130 - val_categorical_crossentropy: 0.5130 - val_categorical_accuracy: 0.7839\n",
            "Epoch 8/100\n",
            "10/10 [==============================] - 2s 157ms/step - loss: 0.2390 - categorical_crossentropy: 0.2390 - categorical_accuracy: 0.9178 - val_loss: 0.3965 - val_categorical_crossentropy: 0.3965 - val_categorical_accuracy: 0.8387\n",
            "Epoch 9/100\n",
            "10/10 [==============================] - 2s 160ms/step - loss: 0.1720 - categorical_crossentropy: 0.1720 - categorical_accuracy: 0.9492 - val_loss: 0.3115 - val_categorical_crossentropy: 0.3115 - val_categorical_accuracy: 0.8806\n",
            "Epoch 10/100\n",
            "10/10 [==============================] - 2s 164ms/step - loss: 0.1092 - categorical_crossentropy: 0.1092 - categorical_accuracy: 0.9654 - val_loss: 0.2637 - val_categorical_crossentropy: 0.2637 - val_categorical_accuracy: 0.9000\n",
            "Epoch 11/100\n",
            "10/10 [==============================] - 1s 145ms/step - loss: 0.0602 - categorical_crossentropy: 0.0602 - categorical_accuracy: 0.9870 - val_loss: 0.5790 - val_categorical_crossentropy: 0.5790 - val_categorical_accuracy: 0.8290\n",
            "Epoch 12/100\n",
            "10/10 [==============================] - 1s 144ms/step - loss: 0.2071 - categorical_crossentropy: 0.2071 - categorical_accuracy: 0.9254 - val_loss: 0.8337 - val_categorical_crossentropy: 0.8337 - val_categorical_accuracy: 0.7774\n",
            "Epoch 13/100\n",
            "10/10 [==============================] - 2s 196ms/step - loss: 0.2532 - categorical_crossentropy: 0.2532 - categorical_accuracy: 0.9135 - val_loss: 0.3823 - val_categorical_crossentropy: 0.3823 - val_categorical_accuracy: 0.8613\n",
            "Epoch 14/100\n",
            "10/10 [==============================] - 2s 159ms/step - loss: 0.1331 - categorical_crossentropy: 0.1331 - categorical_accuracy: 0.9600 - val_loss: 0.2998 - val_categorical_crossentropy: 0.2998 - val_categorical_accuracy: 0.8968\n",
            "Epoch 15/100\n",
            "10/10 [==============================] - 1s 145ms/step - loss: 0.0594 - categorical_crossentropy: 0.0594 - categorical_accuracy: 0.9827 - val_loss: 0.2864 - val_categorical_crossentropy: 0.2864 - val_categorical_accuracy: 0.8968\n",
            "Epoch 16/100\n",
            "10/10 [==============================] - 1s 133ms/step - loss: 0.0257 - categorical_crossentropy: 0.0257 - categorical_accuracy: 0.9968 - val_loss: 0.3694 - val_categorical_crossentropy: 0.3694 - val_categorical_accuracy: 0.8871\n",
            "Epoch 17/100\n",
            "10/10 [==============================] - 1s 146ms/step - loss: 0.0097 - categorical_crossentropy: 0.0097 - categorical_accuracy: 0.9989 - val_loss: 0.3069 - val_categorical_crossentropy: 0.3069 - val_categorical_accuracy: 0.9129\n",
            "Epoch 18/100\n",
            "10/10 [==============================] - 2s 158ms/step - loss: 0.0030 - categorical_crossentropy: 0.0030 - categorical_accuracy: 1.0000 - val_loss: 0.3561 - val_categorical_crossentropy: 0.3561 - val_categorical_accuracy: 0.9032\n",
            "Epoch 19/100\n",
            "10/10 [==============================] - 2s 162ms/step - loss: 0.0027 - categorical_crossentropy: 0.0027 - categorical_accuracy: 1.0000 - val_loss: 0.3467 - val_categorical_crossentropy: 0.3467 - val_categorical_accuracy: 0.9032\n",
            "Epoch 20/100\n",
            "10/10 [==============================] - 2s 160ms/step - loss: 0.0012 - categorical_crossentropy: 0.0012 - categorical_accuracy: 1.0000 - val_loss: 0.3394 - val_categorical_crossentropy: 0.3394 - val_categorical_accuracy: 0.9065\n",
            "Epoch 21/100\n",
            "10/10 [==============================] - 1s 148ms/step - loss: 8.1003e-04 - categorical_crossentropy: 8.1003e-04 - categorical_accuracy: 1.0000 - val_loss: 0.3603 - val_categorical_crossentropy: 0.3603 - val_categorical_accuracy: 0.9097\n",
            "Epoch 22/100\n",
            "10/10 [==============================] - 1s 146ms/step - loss: 5.6267e-04 - categorical_crossentropy: 5.6267e-04 - categorical_accuracy: 1.0000 - val_loss: 0.3597 - val_categorical_crossentropy: 0.3597 - val_categorical_accuracy: 0.9065\n",
            "Epoch 23/100\n",
            "10/10 [==============================] - 1s 136ms/step - loss: 4.3622e-04 - categorical_crossentropy: 4.3622e-04 - categorical_accuracy: 1.0000 - val_loss: 0.3730 - val_categorical_crossentropy: 0.3730 - val_categorical_accuracy: 0.9129\n",
            "Epoch 24/100\n",
            "10/10 [==============================] - 1s 145ms/step - loss: 3.6666e-04 - categorical_crossentropy: 3.6666e-04 - categorical_accuracy: 1.0000 - val_loss: 0.3653 - val_categorical_crossentropy: 0.3653 - val_categorical_accuracy: 0.9065\n",
            "Epoch 25/100\n",
            "10/10 [==============================] - 1s 148ms/step - loss: 3.1506e-04 - categorical_crossentropy: 3.1506e-04 - categorical_accuracy: 1.0000 - val_loss: 0.3644 - val_categorical_crossentropy: 0.3644 - val_categorical_accuracy: 0.9065\n",
            "Epoch 26/100\n",
            "10/10 [==============================] - 1s 146ms/step - loss: 2.6859e-04 - categorical_crossentropy: 2.6859e-04 - categorical_accuracy: 1.0000 - val_loss: 0.3741 - val_categorical_crossentropy: 0.3741 - val_categorical_accuracy: 0.9097\n",
            "Epoch 27/100\n",
            "10/10 [==============================] - 1s 136ms/step - loss: 2.3663e-04 - categorical_crossentropy: 2.3663e-04 - categorical_accuracy: 1.0000 - val_loss: 0.3811 - val_categorical_crossentropy: 0.3811 - val_categorical_accuracy: 0.9097\n",
            "Epoch 28/100\n",
            "10/10 [==============================] - 2s 166ms/step - loss: 2.0984e-04 - categorical_crossentropy: 2.0984e-04 - categorical_accuracy: 1.0000 - val_loss: 0.3851 - val_categorical_crossentropy: 0.3851 - val_categorical_accuracy: 0.9097\n",
            "Epoch 29/100\n",
            "10/10 [==============================] - 2s 167ms/step - loss: 1.8824e-04 - categorical_crossentropy: 1.8824e-04 - categorical_accuracy: 1.0000 - val_loss: 0.3835 - val_categorical_crossentropy: 0.3835 - val_categorical_accuracy: 0.9097\n",
            "Epoch 30/100\n",
            "10/10 [==============================] - 2s 228ms/step - loss: 1.6639e-04 - categorical_crossentropy: 1.6639e-04 - categorical_accuracy: 1.0000 - val_loss: 0.3882 - val_categorical_crossentropy: 0.3882 - val_categorical_accuracy: 0.9097\n",
            "Epoch 31/100\n",
            "10/10 [==============================] - 2s 162ms/step - loss: 1.4993e-04 - categorical_crossentropy: 1.4993e-04 - categorical_accuracy: 1.0000 - val_loss: 0.3974 - val_categorical_crossentropy: 0.3974 - val_categorical_accuracy: 0.9097\n",
            "Epoch 32/100\n",
            "10/10 [==============================] - 2s 164ms/step - loss: 1.3490e-04 - categorical_crossentropy: 1.3490e-04 - categorical_accuracy: 1.0000 - val_loss: 0.3963 - val_categorical_crossentropy: 0.3963 - val_categorical_accuracy: 0.9097\n",
            "Epoch 33/100\n",
            "10/10 [==============================] - 1s 149ms/step - loss: 1.2180e-04 - categorical_crossentropy: 1.2180e-04 - categorical_accuracy: 1.0000 - val_loss: 0.4001 - val_categorical_crossentropy: 0.4001 - val_categorical_accuracy: 0.9097\n",
            "Epoch 34/100\n",
            "10/10 [==============================] - 1s 137ms/step - loss: 1.1135e-04 - categorical_crossentropy: 1.1135e-04 - categorical_accuracy: 1.0000 - val_loss: 0.4028 - val_categorical_crossentropy: 0.4028 - val_categorical_accuracy: 0.9097\n",
            "Epoch 35/100\n",
            "10/10 [==============================] - 1s 137ms/step - loss: 1.0081e-04 - categorical_crossentropy: 1.0081e-04 - categorical_accuracy: 1.0000 - val_loss: 0.4040 - val_categorical_crossentropy: 0.4040 - val_categorical_accuracy: 0.9097\n",
            "Epoch 36/100\n",
            "10/10 [==============================] - 1s 147ms/step - loss: 9.2072e-05 - categorical_crossentropy: 9.2072e-05 - categorical_accuracy: 1.0000 - val_loss: 0.4085 - val_categorical_crossentropy: 0.4085 - val_categorical_accuracy: 0.9097\n",
            "Epoch 37/100\n",
            "10/10 [==============================] - 1s 147ms/step - loss: 8.3490e-05 - categorical_crossentropy: 8.3490e-05 - categorical_accuracy: 1.0000 - val_loss: 0.4093 - val_categorical_crossentropy: 0.4093 - val_categorical_accuracy: 0.9097\n",
            "Epoch 38/100\n",
            "10/10 [==============================] - 2s 158ms/step - loss: 7.5788e-05 - categorical_crossentropy: 7.5788e-05 - categorical_accuracy: 1.0000 - val_loss: 0.4124 - val_categorical_crossentropy: 0.4124 - val_categorical_accuracy: 0.9097\n",
            "Epoch 39/100\n",
            "10/10 [==============================] - 2s 167ms/step - loss: 6.9293e-05 - categorical_crossentropy: 6.9293e-05 - categorical_accuracy: 1.0000 - val_loss: 0.4156 - val_categorical_crossentropy: 0.4156 - val_categorical_accuracy: 0.9097\n",
            "Epoch 40/100\n",
            "10/10 [==============================] - 2s 169ms/step - loss: 6.4492e-05 - categorical_crossentropy: 6.4492e-05 - categorical_accuracy: 1.0000 - val_loss: 0.4171 - val_categorical_crossentropy: 0.4171 - val_categorical_accuracy: 0.9097\n",
            "Epoch 41/100\n",
            "10/10 [==============================] - 1s 138ms/step - loss: 6.0556e-05 - categorical_crossentropy: 6.0556e-05 - categorical_accuracy: 1.0000 - val_loss: 0.4179 - val_categorical_crossentropy: 0.4179 - val_categorical_accuracy: 0.9097\n",
            "Epoch 42/100\n",
            "10/10 [==============================] - 1s 147ms/step - loss: 5.3743e-05 - categorical_crossentropy: 5.3743e-05 - categorical_accuracy: 1.0000 - val_loss: 0.4209 - val_categorical_crossentropy: 0.4209 - val_categorical_accuracy: 0.9097\n",
            "Epoch 43/100\n",
            "10/10 [==============================] - 1s 149ms/step - loss: 4.9841e-05 - categorical_crossentropy: 4.9841e-05 - categorical_accuracy: 1.0000 - val_loss: 0.4227 - val_categorical_crossentropy: 0.4227 - val_categorical_accuracy: 0.9097\n",
            "Epoch 44/100\n",
            "10/10 [==============================] - 1s 138ms/step - loss: 4.6587e-05 - categorical_crossentropy: 4.6587e-05 - categorical_accuracy: 1.0000 - val_loss: 0.4266 - val_categorical_crossentropy: 0.4266 - val_categorical_accuracy: 0.9097\n",
            "Epoch 45/100\n",
            "10/10 [==============================] - 1s 136ms/step - loss: 4.2668e-05 - categorical_crossentropy: 4.2668e-05 - categorical_accuracy: 1.0000 - val_loss: 0.4266 - val_categorical_crossentropy: 0.4266 - val_categorical_accuracy: 0.9097\n",
            "Epoch 46/100\n",
            "10/10 [==============================] - 1s 139ms/step - loss: 3.9583e-05 - categorical_crossentropy: 3.9583e-05 - categorical_accuracy: 1.0000 - val_loss: 0.4270 - val_categorical_crossentropy: 0.4270 - val_categorical_accuracy: 0.9097\n",
            "Epoch 47/100\n",
            "10/10 [==============================] - 1s 138ms/step - loss: 3.6616e-05 - categorical_crossentropy: 3.6616e-05 - categorical_accuracy: 1.0000 - val_loss: 0.4297 - val_categorical_crossentropy: 0.4297 - val_categorical_accuracy: 0.9097\n",
            "Epoch 48/100\n",
            "10/10 [==============================] - 2s 157ms/step - loss: 3.4381e-05 - categorical_crossentropy: 3.4381e-05 - categorical_accuracy: 1.0000 - val_loss: 0.4298 - val_categorical_crossentropy: 0.4298 - val_categorical_accuracy: 0.9097\n",
            "Epoch 49/100\n",
            "10/10 [==============================] - 2s 169ms/step - loss: 3.1868e-05 - categorical_crossentropy: 3.1868e-05 - categorical_accuracy: 1.0000 - val_loss: 0.4337 - val_categorical_crossentropy: 0.4337 - val_categorical_accuracy: 0.9097\n",
            "Epoch 50/100\n",
            "10/10 [==============================] - 2s 180ms/step - loss: 2.9949e-05 - categorical_crossentropy: 2.9949e-05 - categorical_accuracy: 1.0000 - val_loss: 0.4379 - val_categorical_crossentropy: 0.4379 - val_categorical_accuracy: 0.9129\n",
            "Epoch 51/100\n",
            "10/10 [==============================] - 2s 180ms/step - loss: 2.8033e-05 - categorical_crossentropy: 2.8033e-05 - categorical_accuracy: 1.0000 - val_loss: 0.4365 - val_categorical_crossentropy: 0.4365 - val_categorical_accuracy: 0.9097\n",
            "Epoch 52/100\n",
            "10/10 [==============================] - 2s 173ms/step - loss: 2.6287e-05 - categorical_crossentropy: 2.6287e-05 - categorical_accuracy: 1.0000 - val_loss: 0.4396 - val_categorical_crossentropy: 0.4396 - val_categorical_accuracy: 0.9129\n",
            "Epoch 53/100\n",
            "10/10 [==============================] - 1s 148ms/step - loss: 2.4609e-05 - categorical_crossentropy: 2.4609e-05 - categorical_accuracy: 1.0000 - val_loss: 0.4407 - val_categorical_crossentropy: 0.4407 - val_categorical_accuracy: 0.9129\n",
            "Epoch 54/100\n",
            "10/10 [==============================] - 1s 147ms/step - loss: 2.3142e-05 - categorical_crossentropy: 2.3142e-05 - categorical_accuracy: 1.0000 - val_loss: 0.4401 - val_categorical_crossentropy: 0.4401 - val_categorical_accuracy: 0.9097\n",
            "Epoch 55/100\n",
            "10/10 [==============================] - 1s 149ms/step - loss: 2.1820e-05 - categorical_crossentropy: 2.1820e-05 - categorical_accuracy: 1.0000 - val_loss: 0.4393 - val_categorical_crossentropy: 0.4393 - val_categorical_accuracy: 0.9097\n",
            "Epoch 56/100\n",
            "10/10 [==============================] - 1s 138ms/step - loss: 2.0909e-05 - categorical_crossentropy: 2.0909e-05 - categorical_accuracy: 1.0000 - val_loss: 0.4438 - val_categorical_crossentropy: 0.4438 - val_categorical_accuracy: 0.9129\n",
            "Epoch 57/100\n",
            "10/10 [==============================] - 1s 149ms/step - loss: 1.9472e-05 - categorical_crossentropy: 1.9472e-05 - categorical_accuracy: 1.0000 - val_loss: 0.4432 - val_categorical_crossentropy: 0.4432 - val_categorical_accuracy: 0.9097\n",
            "Epoch 58/100\n",
            "10/10 [==============================] - 1s 139ms/step - loss: 1.8311e-05 - categorical_crossentropy: 1.8311e-05 - categorical_accuracy: 1.0000 - val_loss: 0.4464 - val_categorical_crossentropy: 0.4464 - val_categorical_accuracy: 0.9129\n",
            "Epoch 59/100\n",
            "10/10 [==============================] - 1s 149ms/step - loss: 1.7380e-05 - categorical_crossentropy: 1.7380e-05 - categorical_accuracy: 1.0000 - val_loss: 0.4477 - val_categorical_crossentropy: 0.4477 - val_categorical_accuracy: 0.9161\n",
            "Epoch 60/100\n",
            "10/10 [==============================] - 2s 224ms/step - loss: 1.6565e-05 - categorical_crossentropy: 1.6565e-05 - categorical_accuracy: 1.0000 - val_loss: 0.4490 - val_categorical_crossentropy: 0.4490 - val_categorical_accuracy: 0.9129\n",
            "Epoch 61/100\n",
            "10/10 [==============================] - 2s 163ms/step - loss: 1.5720e-05 - categorical_crossentropy: 1.5720e-05 - categorical_accuracy: 1.0000 - val_loss: 0.4484 - val_categorical_crossentropy: 0.4484 - val_categorical_accuracy: 0.9097\n",
            "Epoch 62/100\n",
            "10/10 [==============================] - 2s 162ms/step - loss: 1.4909e-05 - categorical_crossentropy: 1.4909e-05 - categorical_accuracy: 1.0000 - val_loss: 0.4509 - val_categorical_crossentropy: 0.4509 - val_categorical_accuracy: 0.9161\n",
            "Epoch 63/100\n",
            "10/10 [==============================] - 1s 150ms/step - loss: 1.4294e-05 - categorical_crossentropy: 1.4294e-05 - categorical_accuracy: 1.0000 - val_loss: 0.4517 - val_categorical_crossentropy: 0.4517 - val_categorical_accuracy: 0.9161\n",
            "Epoch 64/100\n",
            "10/10 [==============================] - 1s 152ms/step - loss: 1.3561e-05 - categorical_crossentropy: 1.3561e-05 - categorical_accuracy: 1.0000 - val_loss: 0.4527 - val_categorical_crossentropy: 0.4527 - val_categorical_accuracy: 0.9161\n",
            "Epoch 65/100\n",
            "10/10 [==============================] - 1s 141ms/step - loss: 1.3227e-05 - categorical_crossentropy: 1.3227e-05 - categorical_accuracy: 1.0000 - val_loss: 0.4525 - val_categorical_crossentropy: 0.4525 - val_categorical_accuracy: 0.9097\n",
            "Epoch 66/100\n",
            "10/10 [==============================] - 1s 151ms/step - loss: 1.2352e-05 - categorical_crossentropy: 1.2352e-05 - categorical_accuracy: 1.0000 - val_loss: 0.4560 - val_categorical_crossentropy: 0.4560 - val_categorical_accuracy: 0.9161\n",
            "Epoch 67/100\n",
            "10/10 [==============================] - 1s 152ms/step - loss: 1.1807e-05 - categorical_crossentropy: 1.1807e-05 - categorical_accuracy: 1.0000 - val_loss: 0.4581 - val_categorical_crossentropy: 0.4581 - val_categorical_accuracy: 0.9161\n",
            "Epoch 68/100\n",
            "10/10 [==============================] - 1s 152ms/step - loss: 1.1313e-05 - categorical_crossentropy: 1.1313e-05 - categorical_accuracy: 1.0000 - val_loss: 0.4601 - val_categorical_crossentropy: 0.4601 - val_categorical_accuracy: 0.9161\n",
            "Epoch 69/100\n",
            "10/10 [==============================] - 1s 141ms/step - loss: 1.0729e-05 - categorical_crossentropy: 1.0729e-05 - categorical_accuracy: 1.0000 - val_loss: 0.4597 - val_categorical_crossentropy: 0.4597 - val_categorical_accuracy: 0.9161\n",
            "Epoch 70/100\n",
            "10/10 [==============================] - 2s 166ms/step - loss: 1.0278e-05 - categorical_crossentropy: 1.0278e-05 - categorical_accuracy: 1.0000 - val_loss: 0.4598 - val_categorical_crossentropy: 0.4598 - val_categorical_accuracy: 0.9161\n",
            "Epoch 71/100\n",
            "10/10 [==============================] - 2s 170ms/step - loss: 9.9251e-06 - categorical_crossentropy: 9.9251e-06 - categorical_accuracy: 1.0000 - val_loss: 0.4596 - val_categorical_crossentropy: 0.4596 - val_categorical_accuracy: 0.9161\n",
            "Epoch 72/100\n",
            "10/10 [==============================] - 2s 165ms/step - loss: 9.5267e-06 - categorical_crossentropy: 9.5267e-06 - categorical_accuracy: 1.0000 - val_loss: 0.4609 - val_categorical_crossentropy: 0.4609 - val_categorical_accuracy: 0.9161\n",
            "Epoch 73/100\n",
            "10/10 [==============================] - 1s 151ms/step - loss: 9.0922e-06 - categorical_crossentropy: 9.0922e-06 - categorical_accuracy: 1.0000 - val_loss: 0.4652 - val_categorical_crossentropy: 0.4652 - val_categorical_accuracy: 0.9161\n",
            "Epoch 74/100\n",
            "10/10 [==============================] - 1s 152ms/step - loss: 8.7107e-06 - categorical_crossentropy: 8.7107e-06 - categorical_accuracy: 1.0000 - val_loss: 0.4656 - val_categorical_crossentropy: 0.4656 - val_categorical_accuracy: 0.9161\n",
            "Epoch 75/100\n",
            "10/10 [==============================] - 1s 151ms/step - loss: 8.3994e-06 - categorical_crossentropy: 8.3994e-06 - categorical_accuracy: 1.0000 - val_loss: 0.4647 - val_categorical_crossentropy: 0.4647 - val_categorical_accuracy: 0.9161\n",
            "Epoch 76/100\n",
            "10/10 [==============================] - 1s 151ms/step - loss: 8.0359e-06 - categorical_crossentropy: 8.0359e-06 - categorical_accuracy: 1.0000 - val_loss: 0.4667 - val_categorical_crossentropy: 0.4667 - val_categorical_accuracy: 0.9161\n",
            "Epoch 77/100\n",
            "10/10 [==============================] - 1s 141ms/step - loss: 7.7356e-06 - categorical_crossentropy: 7.7356e-06 - categorical_accuracy: 1.0000 - val_loss: 0.4668 - val_categorical_crossentropy: 0.4668 - val_categorical_accuracy: 0.9161\n",
            "Epoch 78/100\n",
            "10/10 [==============================] - 1s 140ms/step - loss: 7.4494e-06 - categorical_crossentropy: 7.4494e-06 - categorical_accuracy: 1.0000 - val_loss: 0.4702 - val_categorical_crossentropy: 0.4702 - val_categorical_accuracy: 0.9161\n",
            "Epoch 79/100\n",
            "10/10 [==============================] - 1s 141ms/step - loss: 7.1886e-06 - categorical_crossentropy: 7.1886e-06 - categorical_accuracy: 1.0000 - val_loss: 0.4706 - val_categorical_crossentropy: 0.4706 - val_categorical_accuracy: 0.9161\n",
            "Epoch 80/100\n",
            "10/10 [==============================] - 2s 164ms/step - loss: 6.9170e-06 - categorical_crossentropy: 6.9170e-06 - categorical_accuracy: 1.0000 - val_loss: 0.4702 - val_categorical_crossentropy: 0.4702 - val_categorical_accuracy: 0.9161\n",
            "Epoch 81/100\n",
            "10/10 [==============================] - 2s 169ms/step - loss: 6.6684e-06 - categorical_crossentropy: 6.6684e-06 - categorical_accuracy: 1.0000 - val_loss: 0.4697 - val_categorical_crossentropy: 0.4697 - val_categorical_accuracy: 0.9161\n",
            "Epoch 82/100\n",
            "10/10 [==============================] - 2s 163ms/step - loss: 6.4254e-06 - categorical_crossentropy: 6.4254e-06 - categorical_accuracy: 1.0000 - val_loss: 0.4719 - val_categorical_crossentropy: 0.4719 - val_categorical_accuracy: 0.9161\n",
            "Epoch 83/100\n",
            "10/10 [==============================] - 2s 158ms/step - loss: 6.2329e-06 - categorical_crossentropy: 6.2329e-06 - categorical_accuracy: 1.0000 - val_loss: 0.4740 - val_categorical_crossentropy: 0.4740 - val_categorical_accuracy: 0.9161\n",
            "Epoch 84/100\n",
            "10/10 [==============================] - 1s 152ms/step - loss: 5.9840e-06 - categorical_crossentropy: 5.9840e-06 - categorical_accuracy: 1.0000 - val_loss: 0.4726 - val_categorical_crossentropy: 0.4726 - val_categorical_accuracy: 0.9161\n",
            "Epoch 85/100\n",
            "10/10 [==============================] - 2s 153ms/step - loss: 5.8113e-06 - categorical_crossentropy: 5.8113e-06 - categorical_accuracy: 1.0000 - val_loss: 0.4728 - val_categorical_crossentropy: 0.4728 - val_categorical_accuracy: 0.9161\n",
            "Epoch 86/100\n",
            "10/10 [==============================] - 1s 140ms/step - loss: 5.5950e-06 - categorical_crossentropy: 5.5950e-06 - categorical_accuracy: 1.0000 - val_loss: 0.4753 - val_categorical_crossentropy: 0.4753 - val_categorical_accuracy: 0.9161\n",
            "Epoch 87/100\n",
            "10/10 [==============================] - 1s 141ms/step - loss: 5.4321e-06 - categorical_crossentropy: 5.4321e-06 - categorical_accuracy: 1.0000 - val_loss: 0.4742 - val_categorical_crossentropy: 0.4742 - val_categorical_accuracy: 0.9161\n",
            "Epoch 88/100\n",
            "10/10 [==============================] - 2s 205ms/step - loss: 5.2292e-06 - categorical_crossentropy: 5.2292e-06 - categorical_accuracy: 1.0000 - val_loss: 0.4758 - val_categorical_crossentropy: 0.4758 - val_categorical_accuracy: 0.9161\n",
            "Epoch 89/100\n",
            "10/10 [==============================] - 1s 140ms/step - loss: 5.0618e-06 - categorical_crossentropy: 5.0618e-06 - categorical_accuracy: 1.0000 - val_loss: 0.4782 - val_categorical_crossentropy: 0.4782 - val_categorical_accuracy: 0.9161\n",
            "Epoch 90/100\n",
            "10/10 [==============================] - 2s 164ms/step - loss: 4.9053e-06 - categorical_crossentropy: 4.9053e-06 - categorical_accuracy: 1.0000 - val_loss: 0.4788 - val_categorical_crossentropy: 0.4788 - val_categorical_accuracy: 0.9161\n",
            "Epoch 91/100\n",
            "10/10 [==============================] - 2s 170ms/step - loss: 4.7634e-06 - categorical_crossentropy: 4.7634e-06 - categorical_accuracy: 1.0000 - val_loss: 0.4776 - val_categorical_crossentropy: 0.4776 - val_categorical_accuracy: 0.9161\n",
            "Epoch 92/100\n",
            "10/10 [==============================] - 2s 168ms/step - loss: 4.6165e-06 - categorical_crossentropy: 4.6165e-06 - categorical_accuracy: 1.0000 - val_loss: 0.4814 - val_categorical_crossentropy: 0.4814 - val_categorical_accuracy: 0.9161\n",
            "Epoch 93/100\n",
            "10/10 [==============================] - 1s 141ms/step - loss: 4.4577e-06 - categorical_crossentropy: 4.4577e-06 - categorical_accuracy: 1.0000 - val_loss: 0.4802 - val_categorical_crossentropy: 0.4802 - val_categorical_accuracy: 0.9161\n",
            "Epoch 94/100\n",
            "10/10 [==============================] - 1s 151ms/step - loss: 4.3176e-06 - categorical_crossentropy: 4.3176e-06 - categorical_accuracy: 1.0000 - val_loss: 0.4818 - val_categorical_crossentropy: 0.4818 - val_categorical_accuracy: 0.9161\n",
            "Epoch 95/100\n",
            "10/10 [==============================] - 1s 150ms/step - loss: 4.1931e-06 - categorical_crossentropy: 4.1931e-06 - categorical_accuracy: 1.0000 - val_loss: 0.4815 - val_categorical_crossentropy: 0.4815 - val_categorical_accuracy: 0.9161\n",
            "Epoch 96/100\n",
            "10/10 [==============================] - 1s 143ms/step - loss: 4.0762e-06 - categorical_crossentropy: 4.0762e-06 - categorical_accuracy: 1.0000 - val_loss: 0.4815 - val_categorical_crossentropy: 0.4815 - val_categorical_accuracy: 0.9161\n",
            "Epoch 97/100\n",
            "10/10 [==============================] - 1s 152ms/step - loss: 3.9433e-06 - categorical_crossentropy: 3.9433e-06 - categorical_accuracy: 1.0000 - val_loss: 0.4824 - val_categorical_crossentropy: 0.4824 - val_categorical_accuracy: 0.9161\n",
            "Epoch 98/100\n",
            "10/10 [==============================] - 2s 154ms/step - loss: 3.8407e-06 - categorical_crossentropy: 3.8407e-06 - categorical_accuracy: 1.0000 - val_loss: 0.4833 - val_categorical_crossentropy: 0.4833 - val_categorical_accuracy: 0.9161\n",
            "Epoch 99/100\n",
            "10/10 [==============================] - 1s 147ms/step - loss: 3.7297e-06 - categorical_crossentropy: 3.7297e-06 - categorical_accuracy: 1.0000 - val_loss: 0.4826 - val_categorical_crossentropy: 0.4826 - val_categorical_accuracy: 0.9161\n",
            "Epoch 100/100\n",
            "10/10 [==============================] - 2s 170ms/step - loss: 3.6257e-06 - categorical_crossentropy: 3.6257e-06 - categorical_accuracy: 1.0000 - val_loss: 0.4845 - val_categorical_crossentropy: 0.4845 - val_categorical_accuracy: 0.9161\n"
          ]
        }
      ]
    },
    {
      "cell_type": "code",
      "source": [
        "trained_model_dict = trained_model.history\n",
        "trained_model_dict.keys()"
      ],
      "metadata": {
        "colab": {
          "base_uri": "https://localhost:8080/"
        },
        "id": "2bsQT3hLAE2g",
        "outputId": "8487e465-bbd5-455f-e411-07721e34bfec"
      },
      "execution_count": null,
      "outputs": [
        {
          "output_type": "execute_result",
          "data": {
            "text/plain": [
              "dict_keys(['loss', 'categorical_crossentropy', 'categorical_accuracy', 'val_loss', 'val_categorical_crossentropy', 'val_categorical_accuracy'])"
            ]
          },
          "metadata": {},
          "execution_count": 20
        }
      ]
    },
    {
      "cell_type": "code",
      "source": [
        "import matplotlib.pyplot as plt\n",
        "\n",
        "loss_value = trained_model_dict['categorical_crossentropy']\n",
        "val_loss_value = trained_model_dict['val_categorical_crossentropy']\n",
        "\n",
        "epochs = range(1,len(loss_value)+1)\n",
        "\n",
        "plt.plot(epochs, loss_value, 'bo', label='Training Loss')\n",
        "plt.plot(epochs, val_loss_value, 'b', label= 'Validation Loss')\n",
        "plt.title('Training and Validation Loss')\n",
        "plt.xlabel('Epochs')\n",
        "plt.ylabel('Loss')\n",
        "plt.legend()\n",
        "\n",
        "plt.show()"
      ],
      "metadata": {
        "id": "RJeUG_S5r1cy",
        "colab": {
          "base_uri": "https://localhost:8080/",
          "height": 472
        },
        "outputId": "30105e84-3466-428c-c450-afeaf8d51980"
      },
      "execution_count": null,
      "outputs": [
        {
          "output_type": "display_data",
          "data": {
            "text/plain": [
              "<Figure size 640x480 with 1 Axes>"
            ],
            "image/png": "[encoded data removed]"
          },
          "metadata": {}
        }
      ]
    },
    {
      "cell_type": "code",
      "source": [
        "acc_values = trained_model_dict['categorical_accuracy']\n",
        "val_acc_values = trained_model_dict['val_categorical_accuracy']\n",
        "\n",
        "\n",
        "plt.plot(epochs, acc_values, 'bo', label='Training Accuracy')\n",
        "plt.plot(epochs, val_acc_values, 'b', label= 'Validation Accuracy')\n",
        "plt.title('Training and Validation Accuracy')\n",
        "plt.xlabel('Epochs')\n",
        "plt.ylabel('Accuracy')\n",
        "plt.legend()\n",
        "\n",
        "plt.show()"
      ],
      "metadata": {
        "colab": {
          "base_uri": "https://localhost:8080/",
          "height": 472
        },
        "id": "ksbtDP3sASLR",
        "outputId": "52b1ae5f-f01b-4789-afc0-f03cc9543a5d"
      },
      "execution_count": null,
      "outputs": [
        {
          "output_type": "display_data",
          "data": {
            "text/plain": [
              "<Figure size 640x480 with 1 Axes>"
            ],
            "image/png": "[encoded data removed]"
          },
          "metadata": {}
        }
      ]
    },
    {
      "cell_type": "code",
      "source": [],
      "metadata": {
        "id": "sdR9GKwCKMFA"
      },
      "execution_count": null,
      "outputs": []
    }
  ],
  "metadata": {
    "kernelspec": {
      "display_name": "Python 3",
      "name": "python3"
    },
    "language_info": {
      "codemirror_mode": {
        "name": "ipython",
        "version": 3
      },
      "file_extension": ".py",
      "mimetype": "text/x-python",
      "name": "python",
      "nbconvert_exporter": "python",
      "pygments_lexer": "ipython3",
      "version": "3.10.12"
    },
    "colab": {
      "provenance": [],
      "gpuType": "T4"
    },
    "accelerator": "GPU"
  },
  "nbformat": 4,
  "nbformat_minor": 0
}